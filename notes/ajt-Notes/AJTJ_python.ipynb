{
 "cells": [
  {
   "cell_type": "code",
   "execution_count": null,
   "metadata": {},
   "outputs": [],
   "source": []
  },
  {
   "cell_type": "markdown",
   "metadata": {},
   "source": [
    "## classes"
   ]
  },
  {
   "cell_type": "code",
   "execution_count": 1,
   "metadata": {},
   "outputs": [],
   "source": [
    "class TradingBot1:\n",
    "    #initialize defaults and self\n",
    "    def __init__(self, name, AccountID, Password, Server):\n",
    "        self.name = name\n",
    "        self.AccountID = AccountID\n",
    "        self.Password = Password\n",
    "        self.Server = Server\n",
    "    \n",
    "    \n",
    "    #methods\n",
    "    def login(self):\n",
    "        pass\n",
    "    \n",
    "    def logout(self):\n",
    "        pass\n",
    "    \n",
    "    def open_Trade(self, symbol, order_type, volume, price):\n",
    "        print(f'{self.name} is opening a trade for {symbol} with a {order_type} order of {volume} at {price}')\n",
    "        \n",
    "    def close_Trade(self, symbol, order_type, volume, price):\n",
    "        print(f'{self.name} is closing a trade for {symbol} with a {order_type} order of {volume} at {price}')\n",
    "        \n",
    "    def get_positions(self):\n",
    "        pass  \n",
    "        \n",
    "# initialize the bot\n",
    "bot1 = TradingBot1('Bot1', 123456, 'password', 'server')    "
   ]
  },
  {
   "cell_type": "code",
   "execution_count": 3,
   "metadata": {},
   "outputs": [
    {
     "data": {
      "text/plain": [
       "'password'"
      ]
     },
     "execution_count": 3,
     "metadata": {},
     "output_type": "execute_result"
    }
   ],
   "source": [
    "# assessing the attributes of the instance bot1\n",
    "\n",
    "bot1.AccountID\n",
    "bot1.name\n",
    "bot1.Password"
   ]
  },
  {
   "cell_type": "code",
   "execution_count": 4,
   "metadata": {},
   "outputs": [
    {
     "name": "stdout",
     "output_type": "stream",
     "text": [
      "Bot1 is opening a trade for AAPL with a market order of 100 at 150\n"
     ]
    }
   ],
   "source": [
    "bot1.open_Trade('AAPL', 'market', 100, 150)\n"
   ]
  },
  {
   "cell_type": "code",
   "execution_count": 5,
   "metadata": {},
   "outputs": [
    {
     "name": "stdout",
     "output_type": "stream",
     "text": [
      "Bot1 is closing a trade for AAPL with a market order of 100 at 150\n"
     ]
    }
   ],
   "source": [
    "bot1.close_Trade('AAPL', 'market', 100, 150)"
   ]
  },
  {
   "cell_type": "markdown",
   "metadata": {},
   "source": [
    "## modules"
   ]
  },
  {
   "cell_type": "code",
   "execution_count": null,
   "metadata": {},
   "outputs": [],
   "source": [
    "import sys\n",
    "sys.path.insert(0, r'C:\\Users\\derne\\OneDrive - The Pennsylvania State University\\Programming\\Extra\\algobot\\notes\\ajt-Notes\\modules_example')"
   ]
  },
  {
   "cell_type": "code",
   "execution_count": 7,
   "metadata": {},
   "outputs": [
    {
     "ename": "ImportError",
     "evalue": "cannot import name 'module_variable1' from 'modules_example.trading_bot' (c:\\Users\\derne\\OneDrive - The Pennsylvania State University\\Programming\\Extra\\algobot\\notes\\ajt-Notes\\modules_example\\trading_bot.py)",
     "output_type": "error",
     "traceback": [
      "\u001b[1;31m---------------------------------------------------------------------------\u001b[0m",
      "\u001b[1;31mImportError\u001b[0m                               Traceback (most recent call last)",
      "Cell \u001b[1;32mIn[7], line 2\u001b[0m\n\u001b[0;32m      1\u001b[0m \u001b[38;5;66;03m# importing variables, functions and classes from another Python file\u001b[39;00m\n\u001b[1;32m----> 2\u001b[0m \u001b[38;5;28;01mfrom\u001b[39;00m \u001b[38;5;21;01mmodules_example\u001b[39;00m\u001b[38;5;21;01m.\u001b[39;00m\u001b[38;5;21;01mtrading_bot\u001b[39;00m \u001b[38;5;28;01mimport\u001b[39;00m module_variable1, do_somethingFunction, TradingBotClass\n\u001b[0;32m      4\u001b[0m \u001b[38;5;66;03m# printing module_variable1 from trading_bot.py\u001b[39;00m\n\u001b[0;32m      5\u001b[0m \u001b[38;5;28mprint\u001b[39m(module_variable1)\n",
      "\u001b[1;31mImportError\u001b[0m: cannot import name 'module_variable1' from 'modules_example.trading_bot' (c:\\Users\\derne\\OneDrive - The Pennsylvania State University\\Programming\\Extra\\algobot\\notes\\ajt-Notes\\modules_example\\trading_bot.py)"
     ]
    }
   ],
   "source": [
    "# importing variables, functions and classes from another Python file\n",
    "from modules_example.trading_bot import module_variable1, do_somethingFunction, TradingBotClass\n",
    "\n",
    "# printing module_variable1 from trading_bot.py\n",
    "print(module_variable1)"
   ]
  },
  {
   "cell_type": "code",
   "execution_count": 8,
   "metadata": {},
   "outputs": [
    {
     "ename": "NameError",
     "evalue": "name 'do_somethingFunction' is not defined",
     "output_type": "error",
     "traceback": [
      "\u001b[1;31m---------------------------------------------------------------------------\u001b[0m",
      "\u001b[1;31mNameError\u001b[0m                                 Traceback (most recent call last)",
      "Cell \u001b[1;32mIn[8], line 1\u001b[0m\n\u001b[1;32m----> 1\u001b[0m \u001b[43mdo_somethingFunction\u001b[49m\n",
      "\u001b[1;31mNameError\u001b[0m: name 'do_somethingFunction' is not defined"
     ]
    }
   ],
   "source": [
    "do_somethingFunction"
   ]
  },
  {
   "cell_type": "code",
   "execution_count": null,
   "metadata": {},
   "outputs": [],
   "source": [
    "# initializing TradingBot class from modules_example/trading_bot.py\n",
    "# For more information about the class, check Lesson 5 (05_classes.ipynb)\n",
    "bot = TradingBot('ATJ Bot', 10000, 'EUR')\n",
    "print('Bot Name', bot.name)\n",
    "\n",
    "# Opening hypothetical trade\n",
    "bot.open_trade('EURUSD', 'buy', 1000)"
   ]
  },
  {
   "cell_type": "markdown",
   "metadata": {},
   "source": [
    "## Python Built-in Modules\n",
    "\n",
    "---\n",
    "\n",
    "- datetime module"
   ]
  },
  {
   "cell_type": "code",
   "execution_count": 14,
   "metadata": {},
   "outputs": [
    {
     "name": "stdout",
     "output_type": "stream",
     "text": [
      " current date and time: 2025-01-10 09:02:08.872470\n",
      " current date: 2025-01-10\n",
      "Converted string to datetime: 2022-01-01 00:00:00\n",
      "adding to time to date: 2023-01-11 00:00:00\n",
      "Subtracting time to date: 2022-10-31 00:00:00\n"
     ]
    }
   ],
   "source": [
    "#importing datetime module\n",
    "from datetime import datetime\n",
    "\n",
    "#getting current date and time\n",
    "print(f' current date and time: {datetime.now()}') #print(datetime.now())\n",
    "\n",
    "#getting current date\n",
    "print(f' current date: {datetime.today().date()}')\n",
    "\n",
    "#convert string to datetime\n",
    "\n",
    "dt_string = '2022-01-01'\n",
    "dt_converted = datetime.strptime(dt_string, '%Y-%m-%d')\n",
    "print('Converted string to datetime:', dt_converted)\n",
    "\n",
    "# adding time to date \n",
    "from datetime import timedelta\n",
    "\n",
    "dt = datetime(2023,1,2)\n",
    "print(f'adding to time to date: {dt + timedelta(days=9)}')\n",
    "\n",
    "print(f'Subtracting time to date: {dt - timedelta(weeks=9)}')"
   ]
  },
  {
   "cell_type": "code",
   "execution_count": null,
   "metadata": {},
   "outputs": [],
   "source": []
  },
  {
   "cell_type": "markdown",
   "metadata": {},
   "source": [
    "## EXTERNAL MODULES"
   ]
  },
  {
   "cell_type": "code",
   "execution_count": null,
   "metadata": {},
   "outputs": [],
   "source": [
    "# Use IPython.display to display DataFrames in a nicer layout\n",
    "from IPython.display import display\n",
    "display(df)"
   ]
  }
 ],
 "metadata": {
  "kernelspec": {
   "display_name": "env",
   "language": "python",
   "name": "python3"
  },
  "language_info": {
   "codemirror_mode": {
    "name": "ipython",
    "version": 3
   },
   "file_extension": ".py",
   "mimetype": "text/x-python",
   "name": "python",
   "nbconvert_exporter": "python",
   "pygments_lexer": "ipython3",
   "version": "3.11.9"
  }
 },
 "nbformat": 4,
 "nbformat_minor": 2
}
