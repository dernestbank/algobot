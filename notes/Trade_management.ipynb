{
 "cells": [
  {
   "cell_type": "code",
   "execution_count": null,
   "metadata": {},
   "outputs": [],
   "source": []
  },
  {
   "cell_type": "code",
   "execution_count": 13,
   "metadata": {},
   "outputs": [],
   "source": [
    "import MetaTrader5 as mt5\n",
    "from time import sleep\n",
    "from datetime import datetime\n",
    "import pytz"
   ]
  },
  {
   "cell_type": "code",
   "execution_count": 15,
   "metadata": {},
   "outputs": [
    {
     "name": "stdout",
     "output_type": "stream",
     "text": [
      "now is 2025-01-14 05:31:33.154915\n",
      "2025-01-14 05:31:33\n",
      "current_time in utc: 2025-01-14 10:31:33.155904+00:00 \n"
     ]
    }
   ],
   "source": [
    "\n",
    "now= datetime.now() #(yr,M, D, hr, min, sec)\n",
    "print(f'now is {now}')\n",
    "\n",
    "formatted_date = now.strftime(\"%Y-%m-%d %H:%M:%S\")\n",
    "print(formatted_date)\n",
    "\n",
    "# print('\\n')\n",
    "# # Get the current time from the broker\n",
    "# broker_time = mt5.time()\n",
    "# broker_datetime = datetime.fromtimestamp(broker_time, pytz.utc)\n",
    "# print(\"Broker datetime:\", broker_datetime)\n",
    "\n",
    "\n",
    "import datetime\n",
    "import pytz\n",
    "\n",
    "# Set the timezone to UTC\n",
    "utc = pytz.UTC\n",
    "\n",
    "# Get the current time in UTC\n",
    "current_time = datetime.datetime.now(utc)\n",
    "\n",
    "print(f'current_time in utc: {current_time} ')\n"
   ]
  },
  {
   "cell_type": "markdown",
   "metadata": {},
   "source": [
    "\"When creating the 'datetime' object, Python uses the local time zone, while MetaTrader 5 stores tick and bar open time in UTC time zone (without the shift). Therefore, 'datetime' should be created in UTC time for executing functions that use time. The data obtained from MetaTrader 5 have UTC time, but Python applies the local time shift again when trying to print them.\"\n"
   ]
  },
  {
   "cell_type": "code",
   "execution_count": null,
   "metadata": {},
   "outputs": [],
   "source": [
    "# import credentials from environments\n",
    "from dotenv import load_dotenv\n",
    "import os\n",
    "\n"
   ]
  },
  {
   "cell_type": "code",
   "execution_count": 2,
   "metadata": {},
   "outputs": [
    {
     "name": "stdout",
     "output_type": "stream",
     "text": [
      "initialization success\n",
      "Connected to the server successfully\n",
      "AccountInfo(login=192918303, trade_mode=0, leverage=200, limit_orders=1024, margin_so_mode=0, trade_allowed=True, trade_expert=True, margin_mode=2, currency_digits=2, fifo_close=False, balance=9952.36, credit=0.0, profit=0.0, equity=9952.36, margin=0.0, margin_free=9952.36, margin_level=0.0, margin_so_call=60.0, margin_so_so=0.0, margin_initial=0.0, margin_maintenance=0.0, assets=0.0, liabilities=0.0, commission_blocked=0.0, name='DemoBotTester', server='Exness-MT5Trial', currency='USD', company='Exness Technologies Ltd')\n"
     ]
    }
   ],
   "source": [
    "\n",
    "if not mt5.initialize(): \n",
    "    print( 'initialization failed')\n",
    "    quit() \n",
    "else: print('initialization success') \n",
    "\n",
    "\n",
    "\n",
    "login = 192918303\n",
    "password = \"Demo@1234\"\n",
    "server = \"Exness-MT5Trial\"\n",
    "\n",
    "# mt5.login(login, password, server)\n",
    "\n",
    "\n",
    "if not mt5.login(login, password, server):\n",
    "    print(\"Failed to connect to the server\")\n",
    "else:\n",
    "    print(\"Connected to the server successfully\")\n",
    "    print(mt5.account_info())\n"
   ]
  },
  {
   "cell_type": "markdown",
   "metadata": {},
   "source": [
    "### Send market order"
   ]
  },
  {
   "cell_type": "code",
   "execution_count": 31,
   "metadata": {},
   "outputs": [],
   "source": [
    "\n",
    "symbol = 'EURUSDm'\n",
    "volume = 0.1\n",
    "action = mt5.TRADE_ACTION_DEAL\n",
    "order_type = mt5.ORDER_TYPE_BUY\n",
    "\n",
    "stop_loss = 0  # set to 0.0 if you don't want SL\n",
    "take_profit = 0  # set to 0.0 if you don't want TP\n",
    "\n",
    "def get_market_price(symbol, type):\n",
    "    if type == mt5.ORDER_TYPE_BUY: # 1 or true for buy\n",
    "        return mt5.symbol_info(symbol).ask\n",
    "    elif type == mt5.ORDER_TYPE_SELL: # 0 or false for sell\n",
    "        return mt5.symbol_info(symbol).bid\n",
    "\n",
    "request = {\n",
    "    \"action\": action,\n",
    "    \"symbol\": symbol,\n",
    "    \"volume\": volume,  # float\n",
    "    \"type\": mt5.ORDER_TYPE_BUY,\n",
    "    \"price\": get_market_price(symbol, 0),\n",
    "    \"sl\": stop_loss,  # float\n",
    "    \"tp\": take_profit,  # float\n",
    "    \"deviation\": 20,\n",
    "    \"magic\": 0, # magic when you want to run different strategy and trades at the same time\n",
    "    \"comment\": \"python market order\",\n",
    "    \"type_time\": mt5.ORDER_TIME_GTC, #The order stays in the queue until it is manually canceled\n",
    "    \"type_filling\": mt5.ORDER_FILLING_IOC,  # some brokers accept mt5.ORDER_FILLING_FOK only\n",
    "}\n",
    "\n",
    "res = mt5.order_send(request)\n",
    "res\n",
    "\n",
    "# i realised i cant send i live order from jupyter notebook except for limit orders"
   ]
  },
  {
   "cell_type": "markdown",
   "metadata": {},
   "source": [
    "## modify SL/TP"
   ]
  },
  {
   "cell_type": "code",
   "execution_count": 33,
   "metadata": {},
   "outputs": [
    {
     "name": "stdout",
     "output_type": "stream",
     "text": [
      "open positions (TradePosition(ticket=1332185369, time=1736852475, time_msc=1736852475788, time_update=1736852475, time_update_msc=1736852475788, type=0, magic=0, identifier=1332185369, reason=0, volume=0.01, price_open=1.0259200000000002, sl=0.0, tp=0.0, price_current=1.02583, swap=0.0, profit=-0.09, symbol='EURUSDm', comment='', external_id=''),)\n"
     ]
    },
    {
     "data": {
      "text/plain": [
       "OrderSendResult(retcode=10009, deal=0, order=0, volume=0.01, price=1.02583, bid=1.02583, ask=1.0259200000000002, comment='', request_id=3376697456, retcode_external=0, request=TradeRequest(action=6, magic=0, order=0, symbol='', volume=0.0, price=0.0, stoplimit=0.0, sl=0.9, tp=1.2, deviation=0, type=0, type_filling=0, type_time=0, expiration=0, comment='', position=1332185369, position_by=0))"
      ]
     },
     "execution_count": 33,
     "metadata": {},
     "output_type": "execute_result"
    }
   ],
   "source": [
    "stop_loss = 0.9  # set to 0.0 if you don't want SL\n",
    "take_profit = 1.2  # set to 0.0 if you don't want TP\n",
    "\n",
    "positions = mt5.positions_get()\n",
    "print('open positions', positions)\n",
    "\n",
    "# Working with 1st position in the list and closing it\n",
    "pos1 = positions[0]\n",
    "\n",
    "request = {\n",
    "    'action': mt5.TRADE_ACTION_SLTP,# key instrument here\n",
    "    'position': pos1.ticket,\n",
    "    'sl': stop_loss,\n",
    "    'tp': take_profit\n",
    "}\n",
    "\n",
    "res = mt5.order_send(request)\n",
    "res\n",
    "\n",
    "# order change works from notebook"
   ]
  },
  {
   "cell_type": "markdown",
   "metadata": {},
   "source": [
    "## close position\n"
   ]
  },
  {
   "cell_type": "code",
   "execution_count": 34,
   "metadata": {},
   "outputs": [
    {
     "name": "stdout",
     "output_type": "stream",
     "text": [
      "open positions (TradePosition(ticket=1332185369, time=1736852475, time_msc=1736852475788, time_update=1736852475, time_update_msc=1736852475788, type=0, magic=0, identifier=1332185369, reason=0, volume=0.01, price_open=1.0259200000000002, sl=0.9, tp=1.2, price_current=1.02576, swap=0.0, profit=-0.16, symbol='EURUSDm', comment='', external_id=''),)\n"
     ]
    },
    {
     "data": {
      "text/plain": [
       "OrderSendResult(retcode=10009, deal=1013141510, order=1332187646, volume=0.01, price=1.02576, bid=1.02576, ask=1.0258500000000002, comment='python close ord', request_id=3376697457, retcode_external=0, request=TradeRequest(action=1, magic=0, order=0, symbol='EURUSDm', volume=0.01, price=1.02576, stoplimit=0.0, sl=0.0, tp=0.0, deviation=20, type=1, type_filling=1, type_time=0, expiration=0, comment='python close order', position=1332185369, position_by=0))"
      ]
     },
     "execution_count": 34,
     "metadata": {},
     "output_type": "execute_result"
    }
   ],
   "source": [
    "positions = mt5.positions_get()\n",
    "print('open positions', positions)\n",
    "\n",
    "# Working with 1st position in the list and closing it\n",
    "pos1 = positions[0]\n",
    "\n",
    "def reverse_type(type):\n",
    "    # to close a buy positions, you must perform a sell position and vice versa\n",
    "    if type == mt5.ORDER_TYPE_BUY:\n",
    "        return mt5.ORDER_TYPE_SELL\n",
    "    elif type == mt5.ORDER_TYPE_SELL:\n",
    "        return mt5.ORDER_TYPE_BUY\n",
    "\n",
    "\n",
    "def get_close_price(symbol, type):\n",
    "    if type == mt5.ORDER_TYPE_BUY:\n",
    "        return mt5.symbol_info(symbol).bid\n",
    "    elif type == mt5.ORDER_TYPE_SELL:\n",
    "        return mt5.symbol_info(symbol).ask\n",
    "\n",
    "request = {\n",
    "    \"action\": mt5.TRADE_ACTION_DEAL,\n",
    "    \"position\": pos1.ticket,\n",
    "    \"symbol\": pos1.symbol,\n",
    "    \"volume\": pos1.volume,\n",
    "    \"type\": reverse_type(pos1.type),\n",
    "    \"price\":get_close_price(pos1.symbol, pos1.type),\n",
    "    \"deviation\": 20,\n",
    "    \"magic\": 0,\n",
    "    \"comment\": \"python close order\",\n",
    "    \"type_time\": mt5.ORDER_TIME_GTC,\n",
    "    \"type_filling\": mt5.ORDER_FILLING_IOC,  # some brokers accept mt5.ORDER_FILLING_FOK only\n",
    "}\n",
    "\n",
    "res = mt5.order_send(request)\n",
    "res"
   ]
  },
  {
   "cell_type": "markdown",
   "metadata": {},
   "source": [
    "## partial close position"
   ]
  },
  {
   "cell_type": "code",
   "execution_count": 39,
   "metadata": {},
   "outputs": [
    {
     "name": "stdout",
     "output_type": "stream",
     "text": [
      "open positions (TradePosition(ticket=1332190605, time=1736852611, time_msc=1736852611893, time_update=1736852611, time_update_msc=1736852611893, type=0, magic=0, identifier=1332190605, reason=0, volume=1.0, price_open=1.0258500000000002, sl=0.0, tp=0.0, price_current=1.02575, swap=0.0, profit=-10.0, symbol='EURUSDm', comment='', external_id=''),)\n"
     ]
    },
    {
     "data": {
      "text/plain": [
       "OrderSendResult(retcode=10009, deal=1013144731, order=1332190834, volume=0.5, price=1.0257500000000002, bid=1.0257500000000002, ask=1.02584, comment='python partial c', request_id=3376697463, retcode_external=0, request=TradeRequest(action=1, magic=0, order=0, symbol='EURUSDm', volume=0.5, price=1.02575, stoplimit=0.0, sl=0.0, tp=0.0, deviation=20, type=1, type_filling=1, type_time=0, expiration=0, comment='python partial close order', position=1332190605, position_by=0))"
      ]
     },
     "execution_count": 39,
     "metadata": {},
     "output_type": "execute_result"
    }
   ],
   "source": [
    "perc_close = 0.5 # percentage to close\n",
    "\n",
    "positions = mt5.positions_get()\n",
    "print('open positions', positions)\n",
    "\n",
    "# Working with 1st position in the list and closing it\n",
    "pos1 = positions[0]\n",
    "\n",
    "def reverse_type(type):\n",
    "    # to close a buy positions, you must perform a sell position and vice versa\n",
    "    if type == 0:\n",
    "        return 1\n",
    "    elif type == 1:\n",
    "        return 0\n",
    "\n",
    "\n",
    "def get_close_price(symbol, type):\n",
    "    if type == 0:\n",
    "        return mt5.symbol_info(symbol).bid\n",
    "    elif type == 1:\n",
    "        return mt5.symbol_info(symbol).ask\n",
    "\n",
    "request = {\n",
    "    \"action\": mt5.TRADE_ACTION_DEAL,\n",
    "    \"position\": pos1.ticket,\n",
    "    \"symbol\": pos1.symbol,\n",
    "    \"volume\": round(pos1.volume * perc_close, 2),  # closing only half\n",
    "    \"type\": reverse_type(pos1.type),\n",
    "    \"price\":get_close_price(pos1.symbol, pos1.type),\n",
    "    \"deviation\": 20,\n",
    "    \"magic\": 0,\n",
    "    \"comment\": \"python partial close order\",\n",
    "    \"type_time\": mt5.ORDER_TIME_GTC,\n",
    "    \"type_filling\": mt5.ORDER_FILLING_IOC,  # some brokers accept mt5.ORDER_FILLING_FOK only\n",
    "}\n",
    "\n",
    "res = mt5.order_send(request)\n",
    "res"
   ]
  },
  {
   "cell_type": "markdown",
   "metadata": {},
   "source": [
    "# limit orders\n"
   ]
  },
  {
   "cell_type": "code",
   "execution_count": 26,
   "metadata": {},
   "outputs": [
    {
     "data": {
      "text/plain": [
       "OrderSendResult(retcode=10009, deal=0, order=1332172290, volume=0.1, price=0.0, bid=1.0258200000000002, ask=1.02591, comment='python market or', request_id=3376697451, retcode_external=0, request=TradeRequest(action=5, magic=0, order=0, symbol='EURUSDm', volume=0.1, price=1.0, stoplimit=0.0, sl=0.9, tp=1.2, deviation=20, type=2, type_filling=1, type_time=0, expiration=0, comment='python market order', position=0, position_by=0))"
      ]
     },
     "execution_count": 26,
     "metadata": {},
     "output_type": "execute_result"
    }
   ],
   "source": [
    "# limit orders\n",
    "\n",
    "symbol = 'EURUSDm'\n",
    "volume = 0.1\n",
    "\n",
    "action = mt5.TRADE_ACTION_PENDING #key instrument here\n",
    "order_type = mt5.ORDER_TYPE_BUY_LIMIT\n",
    "limit_price = 1.0\n",
    "\n",
    "stop_loss = 0.9  # set to 0.0 if you don't want SL\n",
    "take_profit = 1.2  # set to 0.0 if you don't want TP\n",
    "\n",
    "request = {\n",
    "    \"action\": action, #key instrument\n",
    "    \"symbol\": symbol,\n",
    "    \"volume\": volume,  # float\n",
    "    \"type\": order_type,\n",
    "    \"price\": limit_price,\n",
    "    \"sl\": stop_loss,  # float\n",
    "    \"tp\": take_profit,  # float\n",
    "    \"deviation\": 20,\n",
    "    \"magic\": 0,\n",
    "    \"comment\": \"python market order\",\n",
    "    \"type_time\": mt5.ORDER_TIME_GTC,\n",
    "    \"type_filling\": mt5.ORDER_FILLING_IOC,  # some brokers accept mt5.ORDER_FILLING_FOK only\n",
    "}\n",
    "\n",
    "res = mt5.order_send(request)\n",
    "res"
   ]
  },
  {
   "cell_type": "markdown",
   "metadata": {},
   "source": [
    "## stop orders"
   ]
  },
  {
   "cell_type": "code",
   "execution_count": 45,
   "metadata": {},
   "outputs": [
    {
     "data": {
      "text/plain": [
       "OrderSendResult(retcode=10013, deal=0, order=0, volume=0.0, price=0.0, bid=0.0, ask=0.0, comment='Invalid request', request_id=0, retcode_external=0, request=TradeRequest(action=5, magic=0, order=0, symbol='EURUSD', volume=0.1, price=1.2, stoplimit=0.0, sl=1.0, tp=1.3, deviation=20, type=4, type_filling=1, type_time=0, expiration=0, comment='python market order', position=0, position_by=0))"
      ]
     },
     "execution_count": 45,
     "metadata": {},
     "output_type": "execute_result"
    }
   ],
   "source": [
    "# stop orders\n",
    "\n",
    "symbol = 'EURUSDm'\n",
    "volume = 0.1\n",
    "\n",
    "action = mt5.TRADE_ACTION_PENDING\n",
    "order_type = mt5.ORDER_TYPE_BUY_STOP\n",
    "stop_price = 1.2\n",
    "\n",
    "stop_loss = 1.0  # set to 0.0 if you don't want SL\n",
    "take_profit = 1.3  # set to 0.0 if you don't want TP\n",
    "\n",
    "request = {\n",
    "    \"action\": action,\n",
    "    \"symbol\": symbol,\n",
    "    \"volume\": volume,  # float\n",
    "    \"type\": order_type,\n",
    "    \"price\": stop_price,\n",
    "    \"sl\": stop_loss,  # float\n",
    "    \"tp\": take_profit,  # float\n",
    "    \"deviation\": 20,\n",
    "    \"magic\": 0,\n",
    "    \"comment\": \"python market order\",\n",
    "    \"type_time\": mt5.ORDER_TIME_GTC,\n",
    "    \"type_filling\": mt5.ORDER_FILLING_IOC,  # some brokers accept mt5.ORDER_FILLING_FOK only\n",
    "}\n",
    "\n",
    "res = mt5.order_send(request)\n",
    "res"
   ]
  },
  {
   "cell_type": "markdown",
   "metadata": {},
   "source": [
    "## Remove Pending Order"
   ]
  },
  {
   "cell_type": "code",
   "execution_count": 52,
   "metadata": {},
   "outputs": [
    {
     "name": "stdout",
     "output_type": "stream",
     "text": [
      "open pending orders (TradeOrder(ticket=1332223581, time_setup=1736853344, time_setup_msc=1736853344955, time_done=0, time_done_msc=0, time_expiration=0, type=2, type_time=0, type_filling=2, state=1, magic=0, position_id=0, position_by_id=0, reason=0, volume_initial=1.0, volume_current=1.0, price_open=1.02525, sl=0.0, tp=0.0, price_current=1.02588, price_stoplimit=0.0, symbol='EURUSDm', comment='', external_id=''),)\n"
     ]
    },
    {
     "data": {
      "text/plain": [
       "OrderSendResult(retcode=10009, deal=0, order=1332223581, volume=1.0, price=1.02525, bid=1.02579, ask=1.0258800000000001, comment='', request_id=3376697470, retcode_external=0, request=TradeRequest(action=8, magic=0, order=1332223581, symbol='', volume=0.0, price=0.0, stoplimit=0.0, sl=0.0, tp=0.0, deviation=0, type=0, type_filling=0, type_time=0, expiration=0, comment='', position=0, position_by=0))"
      ]
     },
     "execution_count": 52,
     "metadata": {},
     "output_type": "execute_result"
    }
   ],
   "source": [
    "pending_orders = mt5.orders_get()\n",
    "print('open pending orders', pending_orders)\n",
    "\n",
    "order1 = pending_orders[0]\n",
    "\n",
    "request = {\n",
    "    'action': mt5.TRADE_ACTION_REMOVE,\n",
    "    'order': order1.ticket\n",
    "}\n",
    "\n",
    "mt5.order_send(request)"
   ]
  },
  {
   "cell_type": "code",
   "execution_count": null,
   "metadata": {},
   "outputs": [],
   "source": []
  }
 ],
 "metadata": {
  "kernelspec": {
   "display_name": "env",
   "language": "python",
   "name": "python3"
  },
  "language_info": {
   "codemirror_mode": {
    "name": "ipython",
    "version": 3
   },
   "file_extension": ".py",
   "mimetype": "text/x-python",
   "name": "python",
   "nbconvert_exporter": "python",
   "pygments_lexer": "ipython3",
   "version": "3.11.9"
  }
 },
 "nbformat": 4,
 "nbformat_minor": 2
}
