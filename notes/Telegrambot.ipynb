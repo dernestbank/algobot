{
 "cells": [
  {
   "cell_type": "code",
   "execution_count": null,
   "metadata": {},
   "outputs": [],
   "source": [
    "# links for more bot examples\n",
    "\n",
    "https://docs.python-telegram-bot.org/en/stable/examples.html\n",
    "\n",
    "https://github.com/python-telegram-bot/python-telegram-bot/tree/master/examples\n"
   ]
  },
  {
   "cell_type": "code",
   "execution_count": 1,
   "metadata": {},
   "outputs": [],
   "source": [
    "import requests as rq\n",
    "# from telegram import update \n",
    "# from telegram.ext import Application, commandHandler, MessangeHandler, filters, ContextTypes"
   ]
  },
  {
   "cell_type": "code",
   "execution_count": null,
   "metadata": {},
   "outputs": [],
   "source": [
    "TOKEN =\"7078638445:AAH3OF4Usyiq6KPo46dtzdcvwA4US-ZJLJY\"\n",
    "\n",
    "Bot_username= \"@TradeAlertme1\""
   ]
  },
  {
   "cell_type": "code",
   "execution_count": 2,
   "metadata": {},
   "outputs": [],
   "source": [
    "def telegram_bot_sendtext(bot_message):\n",
    "    bot_token =\"7078638445:AAH3OF4Usyiq6KPo46dtzdcvwA4US-ZJLJY\"\n",
    "    bot_ChatID= \"384490149\"\n",
    "    send_text = 'https://api.telegram.org/bot' + bot_token + '/sendMessage?chat_id=' + bot_ChatID + '&parse_mode=Markdown&text=' + bot_message\n",
    "    response =rq.get(send_text)\n",
    "    print(response)"
   ]
  },
  {
   "cell_type": "code",
   "execution_count": 4,
   "metadata": {},
   "outputs": [
    {
     "name": "stdout",
     "output_type": "stream",
     "text": [
      "<Response [400]>\n"
     ]
    }
   ],
   "source": [
    "telegram_bot_sendtext(\"Hello, I am a bot for trade alert\")\n",
    "\n",
    "name= 'BTCUSD'\n",
    "Close=1234.4\n",
    "# telegram_bot_sendtext(\"Buy signal{name} Price{price} TIme{time}\")"
   ]
  },
  {
   "cell_type": "code",
   "execution_count": null,
   "metadata": {},
   "outputs": [],
   "source": [
    "#paste this in url to get chat id\n",
    "\n",
    "https://api.telegram.org/bot7078638445:AAH3OF4Usyiq6KPo46dtzdcvwA4US-ZJLJY/getUpdates"
   ]
  },
  {
   "cell_type": "markdown",
   "metadata": {},
   "source": [
    "{\"id\":7078638445,\"is_bot\":true,\"first_name\":\"TradeAlert1\",\"username\":\"TradeAlertme1_bot\",\"can_join_groups\":true,\"can_read_all_group_messages\":false,\"supports_inline_queries\":false,\"can_connect_to_business\":false,\"has_main_web_app\":false}}"
   ]
  },
  {
   "cell_type": "code",
   "execution_count": null,
   "metadata": {},
   "outputs": [],
   "source": [
    "{\"ok\":true,\"result\":[{\"update_id\":384490149,\n",
    "\"message\":{\"message_id\":2,\"from\":{\"id\":803510108,\"is_bot\":false,\"first_name\":\"Ernest\",\"last_name\":\"el-banks\",\"username\":\"BD_Ernest\",\"language_code\":\"en\"},\"chat\":{\"id\":803510108,\"first_name\":\"Ernest\",\"last_name\":\"el-banks\",\"username\":\"BD_Ernest\",\"type\":\"private\"},\"date\":1739296319,\"text\":\"/\"}},{\"update_id\":384490150,\n",
    "\"message\":{\"message_id\":3,\"from\":{\"id\":803510108,\"is_bot\":false,\"first_name\":\"Ernest\",\"last_name\":\"el-banks\",\"username\":\"BD_Ernest\",\"language_code\":\"en\"},\"chat\":{\"id\":803510108,\"first_name\":\"Ernest\",\"last_name\":\"el-banks\",\"username\":\"BD_Ernest\",\"type\":\"private\"},\"date\":1739311767,\"text\":\"/start\",\"entities\":[{\"offset\":0,\"length\":6,\"type\":\"bot_command\"}]}}]}"
   ]
  },
  {
   "cell_type": "code",
   "execution_count": null,
   "metadata": {},
   "outputs": [],
   "source": [
    "async def start_command(update: Update, context: ContextTy[es.Default])"
   ]
  },
  {
   "cell_type": "code",
   "execution_count": null,
   "metadata": {},
   "outputs": [],
   "source": []
  },
  {
   "cell_type": "code",
   "execution_count": null,
   "metadata": {},
   "outputs": [],
   "source": []
  },
  {
   "cell_type": "code",
   "execution_count": null,
   "metadata": {},
   "outputs": [],
   "source": [
    "# pip install pyTelegramBotAPI\n",
    "import telebot, time\n",
    "\n",
    "class NotificationsTelegramBot(object):\n",
    "\n",
    "    def __init__(self, token, chatId):\n",
    "\n",
    "        self.token = token\n",
    "        self.chatId = chatId\n",
    "\n",
    "    def bot_send_msg(self, message):\n",
    "\n",
    "        '''Telegram bot to send messages to the mobile app. When we import as: from telegramBot import bot_send_msg we are importing all the module; the thing that changes is the binding.'''\n",
    "\n",
    "        bot = telebot.AsyncTeleBot(self.token)\n",
    "\n",
    "        # Every function that calls the Telegram API is executed in a separate Thread.\n",
    "        chat_id_group = self.chatId\n",
    "        bot.send_message(chat_id_group, message)\n",
    "\n",
    "        # Delete to save resources:\n",
    "        del bot\n",
    "\n",
    "if __name__ == '__main__':\n",
    "\t\n",
    "    botObject = NotificationsTelegramBot(\"1159315823:AAFexwCPKJvMeulDnS-he3NCeAjWqcTgejY\", 779773830)\n",
    "    botObject.bot_send_msg(\"One, two, three... ¡CARAMBA!\")\n",
    "\n",
    "    ''' To get the updates, if the BOT was added far away to a chat, you may not get any updates until you issue the \"/start\" method. After sending the /start method as the creator of the bot, you can go to this link:\n",
    "\n",
    "    https://api.telegram.org/bot\"insert-bot-token\"/getUpdates\n",
    "    https://api.telegram.org/bot1159315823:AAFexwCPKJvMeulDnS-he3NCeAjWqcTgejY/getUpdates\n",
    "    \n",
    "    AND YOU WILL SEE THE CHAT ID. THE CHAT ID DOES NOT CHANGE WITH TIME, SO YOU CAN JUST SEND MESSAGES WITHOUT THE NEED OF LOOKING IT AGAIN AND AGAIN. \n",
    "\n",
    "    # updates = bot.get_updates()\n",
    "    # print([u.message.chat.id for u in updates]) --- to get the chat id.'''"
   ]
  },
  {
   "cell_type": "code",
   "execution_count": null,
   "metadata": {},
   "outputs": [],
   "source": []
  }
 ],
 "metadata": {
  "kernelspec": {
   "display_name": "env",
   "language": "python",
   "name": "python3"
  },
  "language_info": {
   "codemirror_mode": {
    "name": "ipython",
    "version": 3
   },
   "file_extension": ".py",
   "mimetype": "text/x-python",
   "name": "python",
   "nbconvert_exporter": "python",
   "pygments_lexer": "ipython3",
   "version": "3.11.9"
  }
 },
 "nbformat": 4,
 "nbformat_minor": 2
}
