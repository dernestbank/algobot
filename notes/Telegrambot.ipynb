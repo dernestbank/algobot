{
 "cells": [
  {
   "cell_type": "markdown",
   "metadata": {},
   "source": [
    "# Telegram bot API notes and examples"
   ]
  },
  {
   "cell_type": "code",
   "execution_count": null,
   "metadata": {},
   "outputs": [],
   "source": [
    "# links for more bot examples\n",
    "\n",
    "https://docs.python-telegram-bot.org/en/stable/examples.html\n",
    "\n",
    "https://github.com/python-telegram-bot/python-telegram-bot/tree/master/examples\n"
   ]
  },
  {
   "cell_type": "markdown",
   "metadata": {},
   "source": [
    "1. Open Telegram and search for the BotFather.\n",
    "\n",
    "2. get your chat_id. \n",
    "https://stackoverflow.com/questions/32423837/telegram-bot-how-to-get-a-group-chat-id\n",
    "https://gist.github.com/nafiesl/4ad622f344cd1dc3bb1ecbe468ff9f8a\n",
    "\n",
    "3. \n",
    "\n",
    "telegram endpoints\n",
    "https://api.telegram.org/bot<bot_id>/sendMessage"
   ]
  },
  {
   "cell_type": "code",
   "execution_count": null,
   "metadata": {},
   "outputs": [],
   "source": [
    "#paste this in url to get chat id\n",
    "\n",
    "https://api.telegram.org/bot7078638445:AAH3OF4Usyiq6KPo46dtzdcvwA4US-ZJLJY/getUpdates"
   ]
  },
  {
   "cell_type": "code",
   "execution_count": null,
   "metadata": {},
   "outputs": [],
   "source": [
    "{\"ok\":true,\"result\":[{\"update_id\":384490149,\n",
    "\"message\":{\"message_id\":2,\"from\":{\"id\":803510108,\"is_bot\":false,\"first_name\":\"Ernest\",\"last_name\":\"el-banks\",\"username\":\"BD_Ernest\",\"language_code\":\"en\"},\"chat\":{\"id\":803510108,\"first_name\":\"Ernest\",\"last_name\":\"el-banks\",\"username\":\"BD_Ernest\",\"type\":\"private\"},\"date\":1739296319,\"text\":\"/\"}},{\"update_id\":384490150,\n",
    "\"message\":{\"message_id\":3,\"from\":{\"id\":803510108,\"is_bot\":false,\"first_name\":\"Ernest\",\"last_name\":\"el-banks\",\"username\":\"BD_Ernest\",\"language_code\":\"en\"},\"chat\":{\"id\":803510108,\"first_name\":\"Ernest\",\"last_name\":\"el-banks\",\"username\":\"BD_Ernest\",\"type\":\"private\"},\"date\":1739311767,\"text\":\"/start\",\"entities\":[{\"offset\":0,\"length\":6,\"type\":\"bot_command\"}]}}]}"
   ]
  },
  {
   "cell_type": "code",
   "execution_count": 2,
   "metadata": {},
   "outputs": [],
   "source": [
    "import requests as rq\n",
    "# from telegram import update \n",
    "# from telegram.ext import Application, commandHandler, MessangeHandler, filters, ContextTypes"
   ]
  },
  {
   "cell_type": "code",
   "execution_count": null,
   "metadata": {},
   "outputs": [],
   "source": [
    "# CRED\n",
    "\n",
    "TOKEN =\"7078638445:AAH3OF4Usyiq6KPo46dtzdcvwA4US-ZJLJY\"\n",
    "\n",
    "Bot_username = \"@TradeAlertme1\"\n",
    "ChatId = 803510108"
   ]
  },
  {
   "cell_type": "code",
   "execution_count": null,
   "metadata": {},
   "outputs": [],
   "source": [
    "def telegram_bot_sendtext(bot_message):\n",
    "    bot_token =TOKEN\n",
    "    bot_ChatID= str(ChatId)\n",
    "    send_text = 'https://api.telegram.org/bot' + bot_token + '/sendMessage?chat_id=' + bot_ChatID + '&parse_mode=Markdown&text=' + bot_message\n",
    "    response =rq.get(send_text)\n",
    "    return response"
   ]
  },
  {
   "cell_type": "code",
   "execution_count": 6,
   "metadata": {},
   "outputs": [
    {
     "data": {
      "text/plain": [
       "{'ok': True,\n",
       " 'result': {'message_id': 9,\n",
       "  'from': {'id': 7078638445,\n",
       "   'is_bot': True,\n",
       "   'first_name': 'TradeAlert1',\n",
       "   'username': 'TradeAlertme1_bot'},\n",
       "  'chat': {'id': 803510108,\n",
       "   'first_name': 'Ernest',\n",
       "   'last_name': 'el-banks',\n",
       "   'username': 'BD_Ernest',\n",
       "   'type': 'private'},\n",
       "  'date': 1740827667,\n",
       "  'text': 'Hello, Ernest here.. copy?...'}}"
      ]
     },
     "execution_count": 6,
     "metadata": {},
     "output_type": "execute_result"
    }
   ],
   "source": [
    "\n",
    "res= telegram_bot_sendtext(\"Hello, Ernest here.. copy?...\")\n",
    "res.json()\n",
    "# telegram_bot_sendtext(\"Buy signal{name} Price{price} TIme{time}\")"
   ]
  },
  {
   "cell_type": "markdown",
   "metadata": {},
   "source": [
    "{\"id\":7078638445,\"is_bot\":true,\"first_name\":\"TradeAlert1\",\"username\":\"TradeAlertme1_bot\",\"can_join_groups\":true,\"can_read_all_group_messages\":false,\"supports_inline_queries\":false,\"can_connect_to_business\":false,\"has_main_web_app\":false}}"
   ]
  },
  {
   "cell_type": "code",
   "execution_count": null,
   "metadata": {},
   "outputs": [],
   "source": [
    "# schedule library\n",
    "\n",
    "import schedule\n",
    "import time\n",
    "\n",
    "def send_message():\n",
    "    bot.send_message(ChatId, \"Good morning!\")\n",
    "\n",
    "schedule.every().day.at(\"08:00\").do(send_message)  # send message every day at 8am\n",
    "\n",
    "while True:\n",
    "    schedule.run_pending()\n",
    "    time.sleep(1)\n"
   ]
  },
  {
   "cell_type": "code",
   "execution_count": null,
   "metadata": {},
   "outputs": [],
   "source": [
    "\n",
    "# Handle user input\n",
    "@bot.message_handler(content_types=[\"text\"])\n",
    "def handle_text(message):\n",
    "    if message.text == \"hello\":\n",
    "        bot.send_message(chat_id, \"Hello!\")\n",
    "        "
   ]
  },
  {
   "cell_type": "code",
   "execution_count": null,
   "metadata": {},
   "outputs": [],
   "source": [
    "# notes from mendel framework master\n",
    "\n",
    "# pip install pyTelegramBotAPI\n",
    "import telebot, time\n",
    "\n",
    "class NotificationsTelegramBot(object):\n",
    "\n",
    "    def __init__(self, token, chatId):\n",
    "\n",
    "        self.token = token\n",
    "        self.chatId = chatId\n",
    "\n",
    "    def bot_send_msg(self, message):\n",
    "\n",
    "        '''Telegram bot to send messages to the mobile app. When we import as: from telegramBot import bot_send_msg we are importing all the module; the thing that changes is the binding.'''\n",
    "\n",
    "        bot = telebot.TeleBot(self.token)\n",
    "\n",
    "        # Every function that calls the Telegram API is executed in a separate Thread.\n",
    "        chat_id_group = self.chatId\n",
    "        bot.send_message(chat_id_group, message)\n",
    "\n",
    "        # Delete to save resources:\n",
    "        del bot\n",
    "\n",
    "if __name__ == '__main__':\n",
    "\t\n",
    "    \n",
    "    botObject = NotificationsTelegramBot(TOKEN, ChatId)\n",
    "    botObject.bot_send_msg(\"One, two, three... ¡CARAMBA!\")\n",
    "\n",
    "    ''' To get the updates, if the BOT was added far away to a chat, you may not get any updates until you issue the \"/start\" method. After sending the /start method as the creator of the bot, you can go to this link:\n",
    "\n",
    "    https://api.telegram.org/bot\"insert-bot-token\"/getUpdates\n",
    "    https://api.telegram.org/bot1159315823:AAFexwCPKJvMeulDnS-he3NCeAjWqcTgejY/getUpdates\n",
    "    \n",
    "    AND YOU WILL SEE THE CHAT ID. THE CHAT ID DOES NOT CHANGE WITH TIME, SO YOU CAN JUST SEND MESSAGES WITHOUT THE NEED OF LOOKING IT AGAIN AND AGAIN. \n",
    "\n",
    "    # updates = bot.get_updates()\n",
    "    # print([u.message.chat.id for u in updates]) --- to get the chat id.'''"
   ]
  },
  {
   "cell_type": "code",
   "execution_count": null,
   "metadata": {},
   "outputs": [],
   "source": [
    "#Notes from blog\n",
    "\n",
    "# https://www.restack.io/p/ai-python-answer-creating-telegram-bots-cat-ai"
   ]
  },
  {
   "cell_type": "code",
   "execution_count": null,
   "metadata": {},
   "outputs": [
    {
     "ename": "AttributeError",
     "evalue": "'Updater' object has no attribute 'dispatcher'",
     "output_type": "error",
     "traceback": [
      "\u001b[1;31m---------------------------------------------------------------------------\u001b[0m",
      "\u001b[1;31mAttributeError\u001b[0m                            Traceback (most recent call last)",
      "Cell \u001b[1;32mIn[10], line 23\u001b[0m\n\u001b[0;32m     20\u001b[0m     updater\u001b[38;5;241m.\u001b[39midle()\n\u001b[0;32m     22\u001b[0m \u001b[38;5;28;01mif\u001b[39;00m \u001b[38;5;18m__name__\u001b[39m \u001b[38;5;241m==\u001b[39m \u001b[38;5;124m'\u001b[39m\u001b[38;5;124m__main__\u001b[39m\u001b[38;5;124m'\u001b[39m:\n\u001b[1;32m---> 23\u001b[0m     \u001b[43mmain\u001b[49m\u001b[43m(\u001b[49m\u001b[43m)\u001b[49m\n",
      "Cell \u001b[1;32mIn[10], line 17\u001b[0m, in \u001b[0;36mmain\u001b[1;34m()\u001b[0m\n\u001b[0;32m     15\u001b[0m \u001b[38;5;28;01mdef\u001b[39;00m \u001b[38;5;21mmain\u001b[39m():\n\u001b[0;32m     16\u001b[0m     updater \u001b[38;5;241m=\u001b[39m Updater(TOKEN, \u001b[38;5;28;01mNone\u001b[39;00m)\u001b[38;5;66;03m#'YOUR_TOKEN_HERE'\u001b[39;00m\n\u001b[1;32m---> 17\u001b[0m     dp \u001b[38;5;241m=\u001b[39m \u001b[43mupdater\u001b[49m\u001b[38;5;241;43m.\u001b[39;49m\u001b[43mdispatcher\u001b[49m\n\u001b[0;32m     18\u001b[0m     dp\u001b[38;5;241m.\u001b[39madd_handler(CommandHandler(\u001b[38;5;124m'\u001b[39m\u001b[38;5;124mstart\u001b[39m\u001b[38;5;124m'\u001b[39m, start))\n\u001b[0;32m     19\u001b[0m     updater\u001b[38;5;241m.\u001b[39mstart_polling()\n",
      "\u001b[1;31mAttributeError\u001b[0m: 'Updater' object has no attribute 'dispatcher'"
     ]
    }
   ],
   "source": [
    "#Create Your First Bot\n",
    "import logging\n",
    "from telegram import Update\n",
    "from telegram.ext import Updater, CommandHandler, CallbackContext\n",
    "\n",
    "# Enable logging\n",
    "logging.basicConfig(format='%(asctime)s - %(name)s - %(levelname)s - %(message)s', level=logging.INFO)\n",
    "logger = logging.getLogger(__name__)\n",
    "\n",
    "# Define a command handler\n",
    "def start(update: Update, context: CallbackContext) -> None:\n",
    "    update.message.reply_text('Hello! I am your bot.')\n",
    "\n",
    "# Main function to run the bot\n",
    "def main():\n",
    "    updater = Updater(TOKEN, None)#'YOUR_TOKEN_HERE'\n",
    "    dp = updater.initialize\n",
    "    dp(CommandHandler('start', start))\n",
    "    updater.start_polling()\n",
    "    updater.idle()\n",
    "\n",
    "if __name__ == '__main__':\n",
    "    main()\n"
   ]
  },
  {
   "cell_type": "code",
   "execution_count": 2,
   "metadata": {},
   "outputs": [
    {
     "ename": "TypeError",
     "evalue": "Updater.__init__() missing 1 required positional argument: 'update_queue'",
     "output_type": "error",
     "traceback": [
      "\u001b[1;31m---------------------------------------------------------------------------\u001b[0m",
      "\u001b[1;31mTypeError\u001b[0m                                 Traceback (most recent call last)",
      "Cell \u001b[1;32mIn[2], line 28\u001b[0m\n\u001b[0;32m     25\u001b[0m     updater\u001b[38;5;241m.\u001b[39midle()\n\u001b[0;32m     27\u001b[0m \u001b[38;5;28;01mif\u001b[39;00m \u001b[38;5;18m__name__\u001b[39m \u001b[38;5;241m==\u001b[39m \u001b[38;5;124m'\u001b[39m\u001b[38;5;124m__main__\u001b[39m\u001b[38;5;124m'\u001b[39m:\n\u001b[1;32m---> 28\u001b[0m     \u001b[43mmain\u001b[49m\u001b[43m(\u001b[49m\u001b[43m)\u001b[49m\n",
      "Cell \u001b[1;32mIn[2], line 12\u001b[0m, in \u001b[0;36mmain\u001b[1;34m()\u001b[0m\n\u001b[0;32m     11\u001b[0m \u001b[38;5;28;01mdef\u001b[39;00m \u001b[38;5;21mmain\u001b[39m():\n\u001b[1;32m---> 12\u001b[0m     updater \u001b[38;5;241m=\u001b[39m \u001b[43mUpdater\u001b[49m\u001b[43m(\u001b[49m\u001b[38;5;124;43m'\u001b[39;49m\u001b[38;5;124;43mYOUR_TOKEN_HERE\u001b[39;49m\u001b[38;5;124;43m'\u001b[39;49m\u001b[43m)\u001b[49m\n\u001b[0;32m     13\u001b[0m     dispatcher \u001b[38;5;241m=\u001b[39m updater\u001b[38;5;241m.\u001b[39mdispatcher\n\u001b[0;32m     15\u001b[0m     \u001b[38;5;66;03m# Add command handler\u001b[39;00m\n",
      "\u001b[1;31mTypeError\u001b[0m: Updater.__init__() missing 1 required positional argument: 'update_queue'"
     ]
    }
   ],
   "source": [
    "# Implementing Commands\n",
    "\n",
    "from telegram import Update\n",
    "from telegram.ext import Updater, CommandHandler, CallbackContext\n",
    "\n",
    "# Define a command handler function\n",
    "def start(update: Update, context: CallbackContext) -> None:\n",
    "    update.message.reply_text('Hello! I am your bot. How can I assist you?')\n",
    "\n",
    "# Main function to run the bot\n",
    "def main():\n",
    "    updater = Updater('YOUR_TOKEN_HERE')\n",
    "    dispatcher = updater.dispatcher\n",
    "\n",
    "    # Add command handler\n",
    "    dispatcher.add_handler(CommandHandler('start', start))\n",
    "    \n",
    "    # Define another command handler\n",
    "\n",
    "    def help_command(update: Update, context: CallbackContext) -> None:\n",
    "        update.message.reply_text('Here are the commands you can use: /start, /help')\n",
    "\n",
    "    # Start the Bot\n",
    "    updater.start_polling()\n",
    "    updater.idle()\n",
    "\n",
    "if __name__ == '__main__':\n",
    "    main()"
   ]
  },
  {
   "cell_type": "code",
   "execution_count": null,
   "metadata": {},
   "outputs": [],
   "source": []
  },
  {
   "cell_type": "markdown",
   "metadata": {},
   "source": [
    "# for MT5\n",
    "\n"
   ]
  },
  {
   "cell_type": "code",
   "execution_count": null,
   "metadata": {},
   "outputs": [],
   "source": []
  },
  {
   "cell_type": "code",
   "execution_count": 11,
   "metadata": {},
   "outputs": [],
   "source": [
    "import MetaTrader5 as mt5\n",
    "from telegram import Update, Bot\n",
    "from telegram.ext import Updater, CommandHandler, CallbackContext\n",
    "import pandas as pd\n",
    "import time\n",
    "\n",
    "# Telegram Bot Token\n",
    "TELEGRAM_BOT_TOKEN = TOKEN\n",
    "CHAT_ID = ChatId\n",
    "\n",
    "# Connect to MetaTrader 5\n",
    "if not mt5.initialize():\n",
    "    print(\"Failed to initialize MT5\")\n",
    "    quit()\n"
   ]
  },
  {
   "cell_type": "code",
   "execution_count": 41,
   "metadata": {},
   "outputs": [
    {
     "name": "stdout",
     "output_type": "stream",
     "text": [
      "(TradePosition(ticket=1483039919, time=1739794520, time_msc=1739794520365, time_update=1739794520, time_update_msc=1739794520365, type=0, magic=301, identifier=1483039919, reason=3, volume=1.0, price_open=44631.9, sl=0.0, tp=0.0, price_current=43845.4, swap=0.0, profit=-786.5, symbol='US30m', comment='', external_id=''), TradePosition(ticket=1544529155, time=1740829111, time_msc=1740829111211, time_update=1740829111, time_update_msc=1740829111211, type=1, magic=0, identifier=1544529155, reason=0, volume=0.05, price_open=84620.81, sl=0.0, tp=0.0, price_current=84667.12, swap=0.0, profit=-2.32, symbol='BTCUSDm', comment='', external_id=''))\n",
      "-786.5\n",
      "-2.32\n"
     ]
    }
   ],
   "source": [
    "type(mt5.positions_get())\n",
    "print(mt5.positions_get())\n",
    "mydict ={}\n",
    "for i in mt5.positions_get():\n",
    "    print(i.profit)\n",
    "  \n",
    "        \n",
    "# [\"TradePosition\"]\n",
    "\n",
    "\n"
   ]
  },
  {
   "cell_type": "code",
   "execution_count": null,
   "metadata": {},
   "outputs": [],
   "source": [
    "# Initialize Telegram Bot\n",
    "bot = Bot(token=TELEGRAM_BOT_TOKEN)\n",
    "\n",
    "# Function to send trade alerts\n",
    "def send_trade_alert(message):\n",
    "    bot.send_message(chat_id=CHAT_ID, text=message)\n",
    "\n",
    "# Function to check for new trades\n",
    "def monitor_trades():\n",
    "    previous_orders = set()\n",
    "    while True:\n",
    "        orders = mt5.positions_get()\n",
    "        if orders:\n",
    "            for order in orders:\n",
    "                order_id = order.ticket\n",
    "                if order_id not in previous_orders:\n",
    "                    msg = f\"New Trade Alert!\\nSymbol: {order.symbol}\\nVolume: {order.volume}\\nType: {order.type}\\nPrice: {order.price_open}\"\n",
    "                    send_trade_alert(msg)\n",
    "                    previous_orders.add(order_id)\n",
    "        time.sleep(10)  # Check every 10 seconds\n",
    "\n",
    "# Command to show current trades\n",
    "def current_trades(update: Update, context: CallbackContext):\n",
    "    orders = mt5.positions_get()\n",
    "    if orders:\n",
    "        msg = \"Current Open Trades:\\n\"\n",
    "        for order in orders:\n",
    "            msg += f\"{order.symbol} - {order.volume} lots - Open Price: {order.price_open} - profit:{order.profit}- Stop Loss: {order.sl} - Take Profit: {order.tp}\\n\\n\"\n",
    "    else:\n",
    "        msg = \"No open trades.\"\n",
    "    update.message.reply_text(msg)\n",
    "\n",
    "# Command to show trade history\n",
    "def trade_history(update: Update, context: CallbackContext):\n",
    "    history = mt5.history_deals_get()\n",
    "    if history:\n",
    "        df = pd.DataFrame(list(history), columns=[\"ticket\", \"symbol\", \"volume\", \"price\", \"profit\"])\n",
    "        msg = df.to_string(index=False)\n",
    "    else:\n",
    "        msg = \"No trade history available.\"\n",
    "    update.message.reply_text(f\"Trade History:\\n{msg}\")\n",
    "\n",
    "\n"
   ]
  },
  {
   "cell_type": "code",
   "execution_count": null,
   "metadata": {},
   "outputs": [],
   "source": [
    "# Telegram Bot Command Setup\n",
    "updater = Updater(token=TELEGRAM_BOT_TOKEN, use_context=True)\n",
    "dispatcher = updater.dispatcher\n",
    "\n",
    "dispatcher.add_handler(CommandHandler(\"current_trades\", current_trades))\n",
    "dispatcher.add_handler(CommandHandler(\"trade_history\", trade_history))\n",
    "\n",
    "# Start the bot\n",
    "updater.start_polling()\n",
    "\n",
    "# Start monitoring trades in a separate thread\n",
    "import threading\n",
    "trade_monitor_thread = threading.Thread(target=monitor_trades, daemon=True)\n",
    "trade_monitor_thread.start()\n"
   ]
  },
  {
   "cell_type": "code",
   "execution_count": null,
   "metadata": {},
   "outputs": [],
   "source": []
  }
 ],
 "metadata": {
  "kernelspec": {
   "display_name": "env",
   "language": "python",
   "name": "python3"
  },
  "language_info": {
   "codemirror_mode": {
    "name": "ipython",
    "version": 3
   },
   "file_extension": ".py",
   "mimetype": "text/x-python",
   "name": "python",
   "nbconvert_exporter": "python",
   "pygments_lexer": "ipython3",
   "version": "3.11.9"
  }
 },
 "nbformat": 4,
 "nbformat_minor": 2
}
