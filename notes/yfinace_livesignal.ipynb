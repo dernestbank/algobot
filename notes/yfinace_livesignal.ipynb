{
 "cells": [
  {
   "cell_type": "code",
   "execution_count": null,
   "metadata": {},
   "outputs": [],
   "source": []
  },
  {
   "cell_type": "code",
   "execution_count": null,
   "metadata": {},
   "outputs": [],
   "source": []
  },
  {
   "cell_type": "code",
   "execution_count": 2,
   "metadata": {},
   "outputs": [],
   "source": [
    "import yfinance as yf\n"
   ]
  },
  {
   "cell_type": "code",
   "execution_count": 8,
   "metadata": {},
   "outputs": [],
   "source": [
    "def get_data(symbol=\"AAPL\"):\n",
    "    #define the ticker symbol\n",
    "    ticker_symbol = symbol\n",
    "    #create the ticker object\n",
    "    tickerObject = yf.Ticker(ticker_symbol)\n",
    "    #get the historical prices for this ticker\n",
    "    return tickerObject.history(period=\"1d\", interval=\"30m\")\n",
    "\n",
    "msft = get_data(\"MSFT\")"
   ]
  },
  {
   "cell_type": "code",
   "execution_count": 9,
   "metadata": {},
   "outputs": [
    {
     "data": {
      "text/html": [
       "<div>\n",
       "<style scoped>\n",
       "    .dataframe tbody tr th:only-of-type {\n",
       "        vertical-align: middle;\n",
       "    }\n",
       "\n",
       "    .dataframe tbody tr th {\n",
       "        vertical-align: top;\n",
       "    }\n",
       "\n",
       "    .dataframe thead th {\n",
       "        text-align: right;\n",
       "    }\n",
       "</style>\n",
       "<table border=\"1\" class=\"dataframe\">\n",
       "  <thead>\n",
       "    <tr style=\"text-align: right;\">\n",
       "      <th></th>\n",
       "      <th>Open</th>\n",
       "      <th>High</th>\n",
       "      <th>Low</th>\n",
       "      <th>Close</th>\n",
       "      <th>Volume</th>\n",
       "      <th>Dividends</th>\n",
       "      <th>Stock Splits</th>\n",
       "    </tr>\n",
       "    <tr>\n",
       "      <th>Datetime</th>\n",
       "      <th></th>\n",
       "      <th></th>\n",
       "      <th></th>\n",
       "      <th></th>\n",
       "      <th></th>\n",
       "      <th></th>\n",
       "      <th></th>\n",
       "    </tr>\n",
       "  </thead>\n",
       "  <tbody>\n",
       "    <tr>\n",
       "      <th>2025-01-10 09:30:00-05:00</th>\n",
       "      <td>240.024994</td>\n",
       "      <td>240.149994</td>\n",
       "      <td>237.470001</td>\n",
       "      <td>237.949997</td>\n",
       "      <td>8348839</td>\n",
       "      <td>0.0</td>\n",
       "      <td>0.0</td>\n",
       "    </tr>\n",
       "    <tr>\n",
       "      <th>2025-01-10 10:00:00-05:00</th>\n",
       "      <td>237.860001</td>\n",
       "      <td>237.914993</td>\n",
       "      <td>235.889999</td>\n",
       "      <td>235.904999</td>\n",
       "      <td>2421645</td>\n",
       "      <td>0.0</td>\n",
       "      <td>0.0</td>\n",
       "    </tr>\n",
       "  </tbody>\n",
       "</table>\n",
       "</div>"
      ],
      "text/plain": [
       "                                 Open        High         Low       Close  \\\n",
       "Datetime                                                                    \n",
       "2025-01-10 09:30:00-05:00  240.024994  240.149994  237.470001  237.949997   \n",
       "2025-01-10 10:00:00-05:00  237.860001  237.914993  235.889999  235.904999   \n",
       "\n",
       "                            Volume  Dividends  Stock Splits  \n",
       "Datetime                                                     \n",
       "2025-01-10 09:30:00-05:00  8348839        0.0           0.0  \n",
       "2025-01-10 10:00:00-05:00  2421645        0.0           0.0  "
      ]
     },
     "execution_count": 9,
     "metadata": {},
     "output_type": "execute_result"
    }
   ],
   "source": [
    "# Download Recent historical Data\n",
    "MSFT_data = get_data()\n",
    "MSFT_data"
   ]
  },
  {
   "cell_type": "code",
   "execution_count": 5,
   "metadata": {},
   "outputs": [],
   "source": [
    "def test_engulfing(df):\n",
    "    last_open = df.iloc[-1, :].Open\n",
    "    last_close = df.iloc[-1, :].Close\n",
    "    previous_open = df.iloc[-2, :].Open\n",
    "    previous_close = df.iloc[-2, :].Close\n",
    "\n",
    "    if (previous_open < previous_close #BULLISH TREND    CONDITION\n",
    "        and last_open > previous_close \n",
    "        and last_close < previous_open):\n",
    "        return 1  # Bearish Engulfing Pattern\n",
    "    \n",
    "    elif (previous_open > previous_close #bEARISH TREND\n",
    "          and last_open < previous_close \n",
    "          and last_close > previous_open):\n",
    "        return 2  # Bullish Engulfing Pattern\n",
    "    else:\n",
    "        return 0  # No Engulfing Pattern"
   ]
  },
  {
   "cell_type": "code",
   "execution_count": 10,
   "metadata": {},
   "outputs": [
    {
     "data": {
      "text/plain": [
       "0"
      ]
     },
     "execution_count": 10,
     "metadata": {},
     "output_type": "execute_result"
    }
   ],
   "source": [
    "test_engulfing(MSFT_data)"
   ]
  },
  {
   "cell_type": "markdown",
   "metadata": {},
   "source": [
    "Send live signal\n",
    "\n",
    "<center>\n",
    "<img src = \" C:\\Users\\derne\\OneDrive - The Pennsylvania State University\\Programming\\Extra\\algobot\\notes\\images\\CodeTrading-Algorithmic Trading Alerts In Python.png\" , wiidth= \"400\">\n",
    "</center>\n"
   ]
  },
  {
   "cell_type": "code",
   "execution_count": 7,
   "metadata": {},
   "outputs": [
    {
     "ename": "AttributeError",
     "evalue": "'NoneType' object has no attribute 'encode'",
     "output_type": "error",
     "traceback": [
      "\u001b[1;31m---------------------------------------------------------------------------\u001b[0m",
      "\u001b[1;31mAttributeError\u001b[0m                            Traceback (most recent call last)",
      "Cell \u001b[1;32mIn[7], line 42\u001b[0m\n\u001b[0;32m     39\u001b[0m     server\u001b[38;5;241m.\u001b[39msendmail(gmail_user, gmail_user, em\u001b[38;5;241m.\u001b[39mas_string())\n\u001b[0;32m     40\u001b[0m     server\u001b[38;5;241m.\u001b[39mclose()\n\u001b[1;32m---> 42\u001b[0m \u001b[43msome_job\u001b[49m\u001b[43m(\u001b[49m\u001b[43m)\u001b[49m\n\u001b[0;32m     44\u001b[0m \u001b[38;5;66;03m###################################################################\u001b[39;00m\n\u001b[0;32m     45\u001b[0m \u001b[38;5;66;03m## Interval time job ##############################################\u001b[39;00m\n\u001b[0;32m     46\u001b[0m \u001b[38;5;66;03m# scheduler = BlockingScheduler(job_defaults={'misfire_grace_time': 15*60})\u001b[39;00m\n\u001b[0;32m     47\u001b[0m \u001b[38;5;66;03m# scheduler.add_job(some_job, 'cron', day_of_week='mon-fri', hour=0, minute=0, timezone=utc)\u001b[39;00m\n\u001b[0;32m     48\u001b[0m \u001b[38;5;66;03m# scheduler.start()\u001b[39;00m\n",
      "Cell \u001b[1;32mIn[7], line 38\u001b[0m, in \u001b[0;36msome_job\u001b[1;34m()\u001b[0m\n\u001b[0;32m     36\u001b[0m server \u001b[38;5;241m=\u001b[39m smtplib\u001b[38;5;241m.\u001b[39mSMTP_SSL(\u001b[38;5;124m'\u001b[39m\u001b[38;5;124msmtp.gmail.com\u001b[39m\u001b[38;5;124m'\u001b[39m, \u001b[38;5;241m465\u001b[39m, context\u001b[38;5;241m=\u001b[39mcontext)\n\u001b[0;32m     37\u001b[0m server\u001b[38;5;241m.\u001b[39mehlo()\n\u001b[1;32m---> 38\u001b[0m \u001b[43mserver\u001b[49m\u001b[38;5;241;43m.\u001b[39;49m\u001b[43mlogin\u001b[49m\u001b[43m(\u001b[49m\u001b[43mgmail_user\u001b[49m\u001b[43m,\u001b[49m\u001b[43m \u001b[49m\u001b[43mgmail_password\u001b[49m\u001b[43m)\u001b[49m\n\u001b[0;32m     39\u001b[0m server\u001b[38;5;241m.\u001b[39msendmail(gmail_user, gmail_user, em\u001b[38;5;241m.\u001b[39mas_string())\n\u001b[0;32m     40\u001b[0m server\u001b[38;5;241m.\u001b[39mclose()\n",
      "File \u001b[1;32m~\\.conda\\envs\\envML\\Lib\\smtplib.py:739\u001b[0m, in \u001b[0;36mSMTP.login\u001b[1;34m(self, user, password, initial_response_ok)\u001b[0m\n\u001b[0;32m    737\u001b[0m method_name \u001b[38;5;241m=\u001b[39m \u001b[38;5;124m'\u001b[39m\u001b[38;5;124mauth_\u001b[39m\u001b[38;5;124m'\u001b[39m \u001b[38;5;241m+\u001b[39m authmethod\u001b[38;5;241m.\u001b[39mlower()\u001b[38;5;241m.\u001b[39mreplace(\u001b[38;5;124m'\u001b[39m\u001b[38;5;124m-\u001b[39m\u001b[38;5;124m'\u001b[39m, \u001b[38;5;124m'\u001b[39m\u001b[38;5;124m_\u001b[39m\u001b[38;5;124m'\u001b[39m)\n\u001b[0;32m    738\u001b[0m \u001b[38;5;28;01mtry\u001b[39;00m:\n\u001b[1;32m--> 739\u001b[0m     (code, resp) \u001b[38;5;241m=\u001b[39m \u001b[38;5;28;43mself\u001b[39;49m\u001b[38;5;241;43m.\u001b[39;49m\u001b[43mauth\u001b[49m\u001b[43m(\u001b[49m\n\u001b[0;32m    740\u001b[0m \u001b[43m        \u001b[49m\u001b[43mauthmethod\u001b[49m\u001b[43m,\u001b[49m\u001b[43m \u001b[49m\u001b[38;5;28;43mgetattr\u001b[39;49m\u001b[43m(\u001b[49m\u001b[38;5;28;43mself\u001b[39;49m\u001b[43m,\u001b[49m\u001b[43m \u001b[49m\u001b[43mmethod_name\u001b[49m\u001b[43m)\u001b[49m\u001b[43m,\u001b[49m\n\u001b[0;32m    741\u001b[0m \u001b[43m        \u001b[49m\u001b[43minitial_response_ok\u001b[49m\u001b[38;5;241;43m=\u001b[39;49m\u001b[43minitial_response_ok\u001b[49m\u001b[43m)\u001b[49m\n\u001b[0;32m    742\u001b[0m     \u001b[38;5;66;03m# 235 == 'Authentication successful'\u001b[39;00m\n\u001b[0;32m    743\u001b[0m     \u001b[38;5;66;03m# 503 == 'Error: already authenticated'\u001b[39;00m\n\u001b[0;32m    744\u001b[0m     \u001b[38;5;28;01mif\u001b[39;00m code \u001b[38;5;129;01min\u001b[39;00m (\u001b[38;5;241m235\u001b[39m, \u001b[38;5;241m503\u001b[39m):\n",
      "File \u001b[1;32m~\\.conda\\envs\\envML\\Lib\\smtplib.py:652\u001b[0m, in \u001b[0;36mSMTP.auth\u001b[1;34m(self, mechanism, authobject, initial_response_ok)\u001b[0m\n\u001b[0;32m    649\u001b[0m \u001b[38;5;28mself\u001b[39m\u001b[38;5;241m.\u001b[39m_auth_challenge_count \u001b[38;5;241m+\u001b[39m\u001b[38;5;241m=\u001b[39m \u001b[38;5;241m1\u001b[39m\n\u001b[0;32m    650\u001b[0m challenge \u001b[38;5;241m=\u001b[39m base64\u001b[38;5;241m.\u001b[39mdecodebytes(resp)\n\u001b[0;32m    651\u001b[0m response \u001b[38;5;241m=\u001b[39m encode_base64(\n\u001b[1;32m--> 652\u001b[0m     \u001b[43mauthobject\u001b[49m\u001b[43m(\u001b[49m\u001b[43mchallenge\u001b[49m\u001b[43m)\u001b[49m\u001b[38;5;241;43m.\u001b[39;49m\u001b[43mencode\u001b[49m(\u001b[38;5;124m'\u001b[39m\u001b[38;5;124mascii\u001b[39m\u001b[38;5;124m'\u001b[39m), eol\u001b[38;5;241m=\u001b[39m\u001b[38;5;124m'\u001b[39m\u001b[38;5;124m'\u001b[39m)\n\u001b[0;32m    653\u001b[0m (code, resp) \u001b[38;5;241m=\u001b[39m \u001b[38;5;28mself\u001b[39m\u001b[38;5;241m.\u001b[39mdocmd(response)\n\u001b[0;32m    654\u001b[0m \u001b[38;5;66;03m# If server keeps sending challenges, something is wrong.\u001b[39;00m\n",
      "\u001b[1;31mAttributeError\u001b[0m: 'NoneType' object has no attribute 'encode'"
     ]
    }
   ],
   "source": [
    "from apscheduler.schedulers.blocking import BlockingScheduler\n",
    "from email.message import EmailMessage\n",
    "import ssl\n",
    "import smtplib\n",
    "from dotenv import load_dotenv\n",
    "import os\n",
    "load_dotenv()\n",
    "\n",
    "gmail_user = os.getenv('EMAIL_ADDRRESS')\n",
    "gmail_password = os.getenv('EMAIL_PASSWORD')\n",
    "\n",
    "em = EmailMessage()\n",
    "\n",
    "# gmail_user = gmail_user\n",
    "# gmail_password = gmail_password\n",
    "subject = 'info signal'\n",
    "\n",
    "\n",
    "def some_job():\n",
    "    msg=\"Trading Signal Message \\n\"\n",
    "    historical_data = get_data()\n",
    "        \n",
    "    if test_engulfing(historical_data)==1:\n",
    "        msg = str(\"the signal is 1 bearish\")\n",
    "\n",
    "    elif test_engulfing(historical_data)==2:\n",
    "        msg = str(\"the signal is 2 bullish\")\n",
    "\n",
    "    em['From'] = gmail_user\n",
    "    em['To'] = gmail_user\n",
    "    em['Subject'] = subject\n",
    "    em.set_content(msg)\n",
    "\n",
    "    context = ssl.create_default_context()\n",
    "\n",
    "    server = smtplib.SMTP_SSL('smtp.gmail.com', 465, context=context)\n",
    "    server.ehlo()\n",
    "    server.login(gmail_user, gmail_password)\n",
    "    server.sendmail(gmail_user, gmail_user, em.as_string())\n",
    "    server.close()\n",
    "\n",
    "some_job()\n",
    "\n",
    "###################################################################\n",
    "## Interval time job ##############################################\n",
    "# scheduler = BlockingScheduler(job_defaults={'misfire_grace_time': 15*60})\n",
    "# scheduler.add_job(some_job, 'cron', day_of_week='mon-fri', hour=0, minute=0, timezone=utc)\n",
    "# scheduler.start()"
   ]
  },
  {
   "cell_type": "markdown",
   "metadata": {},
   "source": [
    "### Live Signal Multiple Stocks"
   ]
  },
  {
   "cell_type": "code",
   "execution_count": null,
   "metadata": {},
   "outputs": [],
   "source": [
    "from apscheduler.schedulers.blocking import BlockingScheduler\n",
    "from email.message import EmailMessage\n",
    "import ssl\n",
    "import smtplib\n",
    "\n",
    "from dotenv import load_dotenv\n",
    "import os\n",
    "load_dotenv()\n",
    "\n",
    "gmail_user = os.getenv('EMAIL_ADDRRESS')\n",
    "gmail_password = os.getenv('EMAIL_PASSWORD')\n",
    "\n",
    "em = EmailMessage()\n",
    "\n",
    "gmail_user = gmail_user\n",
    "gmail_password = gmail_password\n",
    "subject = 'info signal'\n",
    "\n",
    "symbols =  ['AAPL', 'NVDA', 'PYPL', 'GOOG', 'MSFT', 'AMZN']\n",
    "\n",
    "def some_job():\n",
    "    msg=\"Trading Signal Message \\n\"\n",
    "    for symb in symbols:\n",
    "        historical_data = get_data(symb)\n",
    "        if test_engulfing(historical_data)==1:\n",
    "            msg = msg + str(symb+\": the signal is 1 bearish\") + \"\\n\"\n",
    "\n",
    "        elif test_engulfing(historical_data)==2:\n",
    "            msg = msg + str(symb+\": the signal is 2 bullish\") + \"\\n\"\n",
    "    \n",
    "    em['From'] = gmail_user\n",
    "    em['To'] = gmail_user\n",
    "    em['Subject'] = subject\n",
    "    em.set_content(msg)\n",
    "\n",
    "    context = ssl.create_default_context()\n",
    "\n",
    "    server = smtplib.SMTP_SSL('smtp.gmail.com', 465, context=context)\n",
    "    server.ehlo()\n",
    "    server.login(gmail_user, gmail_password)\n",
    "    server.sendmail(gmail_user, gmail_user, em.as_string())\n",
    "    server.close()\n",
    "\n",
    "#some_job()\n",
    "\n",
    "# Define the UTC timezone\n",
    "# utc = pytz.utc\n",
    "\n",
    "import pytz\n",
    "\n",
    "# Define the EST timezone\n",
    "est = pytz.timezone('US/Eastern')\n",
    "\n",
    "###################################################################\n",
    "## Interval time job ##############################################\n",
    "scheduler = BlockingScheduler(job_defaults={'misfire_grace_time': 60*60}) # 1 hour = 60*60 for misfire\n",
    "scheduler.add_job(some_job, 'cron', day_of_week='mon-fri', hour=0, minute=0, timezone=est)\n",
    "scheduler.start()"
   ]
  },
  {
   "cell_type": "code",
   "execution_count": null,
   "metadata": {},
   "outputs": [],
   "source": []
  },
  {
   "cell_type": "code",
   "execution_count": null,
   "metadata": {},
   "outputs": [],
   "source": []
  }
 ],
 "metadata": {
  "kernelspec": {
   "display_name": "env",
   "language": "python",
   "name": "python3"
  },
  "language_info": {
   "codemirror_mode": {
    "name": "ipython",
    "version": 3
   },
   "file_extension": ".py",
   "mimetype": "text/x-python",
   "name": "python",
   "nbconvert_exporter": "python",
   "pygments_lexer": "ipython3",
   "version": "3.11.9"
  }
 },
 "nbformat": 4,
 "nbformat_minor": 2
}
