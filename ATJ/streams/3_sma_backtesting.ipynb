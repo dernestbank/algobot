{
 "cells": [
  {
   "cell_type": "code",
   "execution_count": null,
   "metadata": {
    "vscode": {
     "languageId": "plaintext"
    }
   },
   "outputs": [],
   "source": []
  },
  {
   "cell_type": "code",
   "execution_count": null,
   "metadata": {
    "vscode": {
     "languageId": "plaintext"
    }
   },
   "outputs": [],
   "source": [
    "import MetaTrader5 as mt5\n",
    "from datetime import datetime, timedelta, time\n",
    "from IPython.display import display\n",
    "\n",
    "from projects.atj_trading_legacy.backtester import Backtester, get_ohlc_history, create_price_fig, evaluate_backtest"
   ]
  },
  {
   "cell_type": "code",
   "execution_count": null,
   "metadata": {
    "vscode": {
     "languageId": "plaintext"
    }
   },
   "outputs": [],
   "source": [
    "symbol = 'EURUSD'\n",
    "start_dt = datetime(2023, 1, 1)\n",
    "end_dt = datetime.now()\n",
    "\n",
    "# get historical data\n",
    "mt5.initialize()\n",
    "ohlc = get_ohlc_history(symbol, mt5.TIMEFRAME_D1, start_dt, end_dt)\n",
    "\n",
    "sma_period = 20\n",
    "ohlc['sma_20'] = ohlc['open'].rolling(sma_period).mean()\n",
    "\n",
    "display(ohlc)\n",
    "\n",
    "fig = create_price_fig(ohlc, indicators=['sma_20'])\n",
    "display(fig)"
   ]
  },
  {
   "cell_type": "code",
   "execution_count": null,
   "metadata": {
    "vscode": {
     "languageId": "plaintext"
    }
   },
   "outputs": [],
   "source": [
    "def get_signal(x):\n",
    "    if x['open'] > x['sma_20']:\n",
    "        return 'buy'\n",
    "    elif x['open'] < x['sma_20']:\n",
    "        return 'sell'\n",
    "    else:\n",
    "        return ''\n",
    "    \n",
    "ohlc['signal'] = ohlc.apply(get_signal, axis=1)\n",
    "ohlc"
   ]
  },
  {
   "cell_type": "code",
   "execution_count": null,
   "metadata": {
    "vscode": {
     "languageId": "plaintext"
    }
   },
   "outputs": [],
   "source": [
    "# create trade logic\n",
    "def on_bar(data, trades, orders):\n",
    "    volume = 100000 # 1 lots\n",
    "    \n",
    "    open_trades = trades[trades['state'] == 'open']\n",
    "    num_open_trades = open_trades.shape[0]\n",
    "    \n",
    "    # entry signal\n",
    "    if data['signal'] == 'buy' and not num_open_trades:\n",
    "        orders.open_trade(symbol, volume, 'buy')\n",
    "    \n",
    "    elif data['signal'] == 'sell' and not num_open_trades:\n",
    "        orders.open_trade(symbol, volume, 'sell')\n",
    "        \n",
    "    # exit signal\n",
    "    if num_open_trades:\n",
    "        trade = open_trades.iloc[0]\n",
    "\n",
    "        if trade['order_type'] == 'buy' and data['signal'] == 'sell':\n",
    "            orders.close_trade(trade)\n",
    "        elif trade['order_type'] == 'sell' and data['signal'] == 'buy':\n",
    "            orders.close_trade(trade)"
   ]
  },
  {
   "cell_type": "code",
   "execution_count": null,
   "metadata": {
    "vscode": {
     "languageId": "plaintext"
    }
   },
   "outputs": [],
   "source": [
    "# backtest parameters\n",
    "starting_balance = 10000\n",
    "currency = 'USD'\n",
    "exchange_rate = 1\n",
    "commission = -7 / 100000\n",
    "\n",
    "# backtest\n",
    "bt = Backtester()\n",
    "bt.set_starting_balance(starting_balance, currency=currency)\n",
    "bt.set_exchange_rate(exchange_rate)\n",
    "bt.set_commission(commission)\n",
    "\n",
    "bt.set_historical_data(ohlc)\n",
    "bt.set_on_bar(on_bar)\n",
    "\n",
    "bt.run_backtest()\n",
    "\n",
    "bt.trades"
   ]
  },
  {
   "cell_type": "code",
   "execution_count": null,
   "metadata": {
    "vscode": {
     "languageId": "plaintext"
    }
   },
   "outputs": [],
   "source": [
    "pnl_chart = bt.plot_pnl()\n",
    "pnl_chart"
   ]
  },
  {
   "cell_type": "code",
   "execution_count": null,
   "metadata": {
    "vscode": {
     "languageId": "plaintext"
    }
   },
   "outputs": [],
   "source": [
    "backtest_fig = bt.visualize_backtest(indicators=['sma_20'])\n",
    "backtest_fig"
   ]
  },
  {
   "cell_type": "code",
   "execution_count": null,
   "metadata": {
    "vscode": {
     "languageId": "plaintext"
    }
   },
   "outputs": [],
   "source": [
    "bt.export_to_json('sma_backtest.json', indicators=['sma_20'])"
   ]
  },
  {
   "cell_type": "code",
   "execution_count": null,
   "metadata": {
    "vscode": {
     "languageId": "plaintext"
    }
   },
   "outputs": [],
   "source": [
    "evaluate_backtest(bt.trades)"
   ]
  },
  {
   "cell_type": "code",
   "execution_count": null,
   "metadata": {
    "vscode": {
     "languageId": "plaintext"
    }
   },
   "outputs": [],
   "source": []
  },
  {
   "cell_type": "code",
   "execution_count": null,
   "metadata": {
    "vscode": {
     "languageId": "plaintext"
    }
   },
   "outputs": [],
   "source": []
  },
  {
   "cell_type": "code",
   "execution_count": null,
   "metadata": {
    "vscode": {
     "languageId": "plaintext"
    }
   },
   "outputs": [],
   "source": []
  },
  {
   "cell_type": "code",
   "execution_count": null,
   "metadata": {
    "vscode": {
     "languageId": "plaintext"
    }
   },
   "outputs": [],
   "source": []
  }
 ],
 "metadata": {
  "language_info": {
   "name": "python"
  }
 },
 "nbformat": 4,
 "nbformat_minor": 2
}
