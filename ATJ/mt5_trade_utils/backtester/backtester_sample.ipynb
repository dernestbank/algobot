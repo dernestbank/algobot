{
 "cells": [
  {
   "cell_type": "code",
   "execution_count": null,
   "metadata": {},
   "outputs": [],
   "source": []
  },
  {
   "cell_type": "code",
   "execution_count": 2,
   "metadata": {},
   "outputs": [],
   "source": [
    "import MetaTrader5 as mt5\n",
    "from datetime import datetime, timedelta, time\n",
    "\n",
    "from __init__ import Backtester, get_ohlc_history, create_ohlc_fig, evaluate_backtest"
   ]
  },
  {
   "cell_type": "code",
   "execution_count": 4,
   "metadata": {},
   "outputs": [
    {
     "ename": "ModuleNotFoundError",
     "evalue": "No module named 'streams'",
     "output_type": "error",
     "traceback": [
      "\u001b[1;31m---------------------------------------------------------------------------\u001b[0m",
      "\u001b[1;31mModuleNotFoundError\u001b[0m                       Traceback (most recent call last)",
      "Cell \u001b[1;32mIn[4], line 1\u001b[0m\n\u001b[1;32m----> 1\u001b[0m \u001b[38;5;28;01mfrom\u001b[39;00m \u001b[38;5;21;01mstreams\u001b[39;00m\u001b[38;5;21;01m.\u001b[39;00m\u001b[38;5;21;01mconfig\u001b[39;00m \u001b[38;5;28;01mimport\u001b[39;00m initialize_mt5\n\u001b[0;32m      2\u001b[0m initialize_mt5()\n",
      "\u001b[1;31mModuleNotFoundError\u001b[0m: No module named 'streams'"
     ]
    }
   ],
   "source": [
    "from streams.config import initialize_mt5\n",
    "initialize_mt5()"
   ]
  },
  {
   "cell_type": "code",
   "execution_count": 3,
   "metadata": {},
   "outputs": [
    {
     "ename": "NameError",
     "evalue": "name 'get_ohlc_history' is not defined",
     "output_type": "error",
     "traceback": [
      "\u001b[1;31m---------------------------------------------------------------------------\u001b[0m",
      "\u001b[1;31mNameError\u001b[0m                                 Traceback (most recent call last)",
      "Cell \u001b[1;32mIn[3], line 7\u001b[0m\n\u001b[0;32m      5\u001b[0m \u001b[38;5;66;03m# get historical data\u001b[39;00m\n\u001b[0;32m      6\u001b[0m mt5\u001b[38;5;241m.\u001b[39minitialize()\n\u001b[1;32m----> 7\u001b[0m ohlc \u001b[38;5;241m=\u001b[39m \u001b[43mget_ohlc_history\u001b[49m(symbol, mt5\u001b[38;5;241m.\u001b[39mTIMEFRAME_H1, start_dt, end_dt)\n\u001b[0;32m      9\u001b[0m \u001b[38;5;66;03m# prepare data set\u001b[39;00m\n\u001b[0;32m     10\u001b[0m ohlc[\u001b[38;5;124m'\u001b[39m\u001b[38;5;124mday\u001b[39m\u001b[38;5;124m'\u001b[39m] \u001b[38;5;241m=\u001b[39m ohlc[\u001b[38;5;124m'\u001b[39m\u001b[38;5;124mtime\u001b[39m\u001b[38;5;124m'\u001b[39m]\u001b[38;5;241m.\u001b[39mdt\u001b[38;5;241m.\u001b[39mdayofweek\n",
      "\u001b[1;31mNameError\u001b[0m: name 'get_ohlc_history' is not defined"
     ]
    }
   ],
   "source": [
    "symbol = 'BTCUSDm'\n",
    "start_dt = datetime(2023, 1, 1)\n",
    "end_dt = datetime.now()\n",
    "\n",
    "# get historical data\n",
    "mt5.initialize()\n",
    "ohlc = get_ohlc_history(symbol, mt5.TIMEFRAME_H1, start_dt, end_dt)\n",
    "\n",
    "# prepare data set\n",
    "ohlc['day'] = ohlc['time'].dt.dayofweek\n",
    "ohlc['time_hms'] = ohlc['time'].dt.time\n",
    "ohlc['hour'] = ohlc['time'].dt.hour\n",
    "\n",
    "ohlc['high_20'] = ohlc['high'].rolling(24*5).max().shift(1)\n",
    "ohlc['low_20'] = ohlc['low'].rolling(24*5).min().shift(1)\n",
    "\n",
    "ohlc['range'] = ohlc['high'] - ohlc['low']\n",
    "\n",
    "ohlc = ohlc.dropna()\n",
    "print(ohlc)\n",
    "\n",
    "def get_entry_signal(x):\n",
    "    if x['close'] > x['high_20']:\n",
    "        return 'buy'\n",
    "    \n",
    "    elif x['close'] < x['low_20']:\n",
    "        return 'sell'\n",
    "    \n",
    "def get_exit_signal(x):\n",
    "    if x['close'] > x['high_20']:\n",
    "        return 'buy'\n",
    "    \n",
    "    elif x['close'] < x['low_20']:\n",
    "        return 'sell'\n",
    "\n",
    "ohlc['signal'] = ohlc.apply(get_entry_signal, axis=1)\n",
    "ohlc['exit_signal'] = ohlc.apply(get_exit_signal, axis=1)\n",
    "\n",
    "ohlc_fig = create_ohlc_fig(ohlc)\n",
    "ohlc_fig"
   ]
  },
  {
   "cell_type": "code",
   "execution_count": null,
   "metadata": {},
   "outputs": [],
   "source": []
  },
  {
   "cell_type": "code",
   "execution_count": null,
   "metadata": {},
   "outputs": [],
   "source": []
  },
  {
   "cell_type": "code",
   "execution_count": null,
   "metadata": {},
   "outputs": [],
   "source": []
  },
  {
   "cell_type": "code",
   "execution_count": null,
   "metadata": {},
   "outputs": [],
   "source": []
  }
 ],
 "metadata": {
  "kernelspec": {
   "display_name": "env",
   "language": "python",
   "name": "python3"
  },
  "language_info": {
   "codemirror_mode": {
    "name": "ipython",
    "version": 3
   },
   "file_extension": ".py",
   "mimetype": "text/x-python",
   "name": "python",
   "nbconvert_exporter": "python",
   "pygments_lexer": "ipython3",
   "version": "3.11.9"
  }
 },
 "nbformat": 4,
 "nbformat_minor": 2
}
