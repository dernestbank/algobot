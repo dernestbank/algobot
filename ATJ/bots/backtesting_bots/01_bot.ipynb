{
 "cells": [
  {
   "cell_type": "code",
   "execution_count": null,
   "metadata": {},
   "outputs": [],
   "source": []
  },
  {
   "cell_type": "code",
   "execution_count": null,
   "metadata": {},
   "outputs": [],
   "source": [
    "import MetaTrader5 as mt5\n",
    "import pandas as pd\n",
    "import numpy as np\n",
    "import time\n",
    "from datetime import datetime, timedelta\n"
   ]
  },
  {
   "cell_type": "code",
   "execution_count": null,
   "metadata": {},
   "outputs": [],
   "source": [
    "# Initialize Connection & Global Settings"
   ]
  },
  {
   "cell_type": "code",
   "execution_count": null,
   "metadata": {},
   "outputs": [],
   "source": [
    "# ----------------------------------\n",
    "#       INITIAL SETUP\n",
    "# ----------------------------------\n",
    "\n",
    "# Replace these credentials if needed (for certain brokers, you might not need login/password)\n",
    "MT5_LOGIN = 12345678\n",
    "MT5_PASSWORD = \"your_password\"\n",
    "MT5_SERVER = \"YourBrokerServer\"  # e.g., \"MetaQuotes-Demo\"\n",
    "\n",
    "# Symbols of interest\n",
    "SYMBOLS = [\"XAUUSD\", \"BTCUSD\", \"GBPUSD\", \"USTEC\"]  # Adjust to match your broker's naming\n",
    "\n",
    "# Risk settings\n",
    "RISK_PER_TRADE = 0.01        # 1% per trade\n",
    "MAX_OVERALL_RISK = 0.03      # 3% total open risk\n",
    "\n",
    "# For example strategies, we’ll primarily check the 4-hour time frame\n",
    "TIMEFRAME = mt5.TIMEFRAME_H4\n",
    "\n",
    "# Connect to MetaTrader 5\n",
    "if not mt5.initialize(login=MT5_LOGIN, password=MT5_PASSWORD, server=MT5_SERVER):\n",
    "    print(\"Initialize() failed\")\n",
    "    mt5.shutdown()\n",
    "else:\n",
    "    print(f\"Connected to MT5 Client (Version: {mt5.version()})\")\n"
   ]
  },
  {
   "cell_type": "markdown",
   "metadata": {},
   "source": [
    "## 3. Helper Functions\n",
    "### 3.1 Data Retrieval"
   ]
  },
  {
   "cell_type": "code",
   "execution_count": null,
   "metadata": {},
   "outputs": [],
   "source": [
    "def get_ohlc_data(symbol, timeframe, n=500):\n",
    "    \"\"\"\n",
    "    Fetches the last `n` candles of OHLC data for the specified symbol/timeframe.\n",
    "    Returns a pandas DataFrame with columns: [time, open, high, low, close, tick_volume].\n",
    "    \"\"\"\n",
    "    rates = mt5.copy_rates_from_pos(symbol, timeframe, 0, n)\n",
    "    if rates is None:\n",
    "        return None\n",
    "    df = pd.DataFrame(rates)\n",
    "    df['time'] = pd.to_datetime(df['time'], unit='s')\n",
    "    df.set_index('time', inplace=True)\n",
    "    return df\n"
   ]
  },
  {
   "cell_type": "markdown",
   "metadata": {},
   "source": [
    "3.2 Indicator Calculations:\n",
    "\n",
    "- Moving Average (EMA)\n",
    "- ATR (for volatility-based stops)\n",
    "- RSI or MACD (if you want additional signals)"
   ]
  },
  {
   "cell_type": "code",
   "execution_count": null,
   "metadata": {},
   "outputs": [],
   "source": [
    "def ema(series, period=20):\n",
    "    \"\"\"Calculate Exponential Moving Average.\"\"\"\n",
    "    return series.ewm(span=period, adjust=False).mean()\n",
    "\n",
    "def atr(df, period=14):\n",
    "    \"\"\"Calculate Average True Range.\"\"\"\n",
    "    data = df.copy()\n",
    "    data['H-L'] = data['high'] - data['low']\n",
    "    data['H-C'] = abs(data['high'] - data['close'].shift(1))\n",
    "    data['L-C'] = abs(data['low'] - data['close'].shift(1))\n",
    "    tr = data[['H-L','H-C','L-C']].max(axis=1)\n",
    "    atr_ = tr.rolling(period).mean()\n",
    "    return atr_\n",
    "\n",
    "def rsi(series, period=14):\n",
    "    \"\"\"Calculate RSI.\"\"\"\n",
    "    delta = series.diff()\n",
    "    gain = (delta.where(delta > 0, 0)).rolling(window=period).mean()\n",
    "    loss = (-delta.where(delta < 0, 0)).rolling(window=period).mean()\n",
    "    rs = gain / loss\n",
    "    return 100 - (100 / (1 + rs))\n"
   ]
  },
  {
   "cell_type": "markdown",
   "metadata": {},
   "source": [
    "## 4. Strategy Logic\n",
    "Based on  plan:\n",
    "\n",
    "1. Identify trend (e.g., using EMAs, price structure).\n",
    "2. Confirm a retracement + rejection or a breakout.\n",
    "3. Use ATR for stop-loss distance.\n",
    "4. Size your position according to 1% risk.\n",
    "5. Manage trades with trailing stops or partial take-profits."
   ]
  },
  {
   "cell_type": "markdown",
   "metadata": {},
   "source": [
    "4.1 Check Trend & Potential Signals\n",
    "\n",
    "Use a 50 EMA and 200 EMA to determine if price is in an uptrend or downtrend. Then look for a simple “retrace and rejection” entry."
   ]
  },
  {
   "cell_type": "code",
   "execution_count": null,
   "metadata": {},
   "outputs": [],
   "source": [
    "def check_signals(df):\n",
    "    \"\"\"\n",
    "    Given a DataFrame with OHLC data,\n",
    "    return a dictionary containing potential 'BUY' or 'SELL' signals,\n",
    "    along with recommended stop loss level, etc.\n",
    "    \"\"\"\n",
    "\n",
    "    # Basic check to ensure we have enough data\n",
    "    if df is None or len(df) < 200:\n",
    "        return None\n",
    "\n",
    "    df['EMA50'] = ema(df['close'], 50)\n",
    "    df['EMA200'] = ema(df['close'], 200)\n",
    "    df['ATR'] = atr(df, 14)\n",
    "    df['RSI'] = rsi(df['close'], 14)\n",
    "\n",
    "    # Identify the last candle’s data\n",
    "    last_close = df['close'].iloc[-1]\n",
    "    last_ema50 = df['EMA50'].iloc[-1]\n",
    "    last_ema200 = df['EMA200'].iloc[-1]\n",
    "    last_atr = df['ATR'].iloc[-1]\n",
    "    last_rsi = df['RSI'].iloc[-1]\n",
    "\n",
    "    # Determine trend based on EMA alignment\n",
    "    # Uptrend if EMA50 > EMA200, Downtrend if EMA50 < EMA200\n",
    "    trend = None\n",
    "    if last_ema50 > last_ema200:\n",
    "        trend = 'UP'\n",
    "    elif last_ema50 < last_ema200:\n",
    "        trend = 'DOWN'\n",
    "\n",
    "    # Example: looking for a retracement if price is in an uptrend\n",
    "    # We might use RSI or a candlestick pattern for final confirmation\n",
    "    signal = None\n",
    "    sl_price = None\n",
    "\n",
    "    if trend == 'UP':\n",
    "        # Check for RSI bounce above 50 or a bullish RSI divergence, etc.\n",
    "        # For simplicity, let's say if RSI > 50 and last_close > EMA50, we consider a buy signal\n",
    "        if last_rsi > 50 and last_close > last_ema50:\n",
    "            signal = \"BUY\"\n",
    "            # Stop loss placed below the recent swing low or 1 x ATR below the close\n",
    "            # We'll do: sl_price = last_close - 1.0 * last_atr\n",
    "            sl_price = last_close - 1.0 * last_atr\n",
    "    elif trend == 'DOWN':\n",
    "        # Check for RSI < 50 and last_close < EMA50 for a sell signal\n",
    "        if last_rsi < 50 and last_close < last_ema50:\n",
    "            signal = \"SELL\"\n",
    "            # Stop loss placed above the recent swing high or 1 x ATR above the close\n",
    "            sl_price = last_close + 1.0 * last_atr\n",
    "\n",
    "    if signal:\n",
    "        return {\n",
    "            \"signal\": signal,\n",
    "            \"sl_price\": sl_price,\n",
    "            \"atr\": last_atr\n",
    "        }\n",
    "    else:\n",
    "        return None\n"
   ]
  },
  {
   "cell_type": "code",
   "execution_count": null,
   "metadata": {},
   "outputs": [],
   "source": [
    "### 4.2 Position Sizing & Order Placement\n",
    "\n",
    "We’ll create a function to calculate lot size based on a 1% risk (or user-specified RISK_PER_TRADE)\n"
   ]
  },
  {
   "cell_type": "code",
   "execution_count": null,
   "metadata": {},
   "outputs": [],
   "source": []
  }
 ],
 "metadata": {
  "kernelspec": {
   "display_name": "env",
   "language": "python",
   "name": "python3"
  },
  "language_info": {
   "name": "python",
   "version": "3.11.9"
  }
 },
 "nbformat": 4,
 "nbformat_minor": 2
}
